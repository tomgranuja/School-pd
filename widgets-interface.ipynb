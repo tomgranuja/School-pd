{
 "cells": [
  {
   "cell_type": "code",
   "execution_count": 1,
   "metadata": {
    "collapsed": true
   },
   "outputs": [],
   "source": [
    "from pdtable import alumnos"
   ]
  },
  {
   "cell_type": "code",
   "execution_count": 2,
   "metadata": {
    "collapsed": false
   },
   "outputs": [
    {
     "data": {
      "text/html": [
       "<style>body {\n",
       "    margin: 0;\n",
       "    font-family: Helvetica;\n",
       "}\n",
       "table.dataframe {\n",
       "    border-collapse: collapse;\n",
       "    border: none;\n",
       "}\n",
       "table.dataframe tr {\n",
       "    border: none;\n",
       "}\n",
       "table.dataframe td, table.dataframe th {\n",
       "    margin: 0;\n",
       "    border: 1px solid white;\n",
       "    padding-left: 0.25em;\n",
       "    padding-right: 0.25em;\n",
       "}\n",
       "table.dataframe th:not(:empty) {\n",
       "    background-color: #fec;\n",
       "    text-align: left;\n",
       "    font-weight: normal;\n",
       "}\n",
       "table.dataframe tr:nth-child(2) th:empty {\n",
       "    border-left: none;\n",
       "    border-right: 1px dashed #888;\n",
       "}\n",
       "table.dataframe td {\n",
       "    border: 2px solid #ccf;\n",
       "    background-color: #f4f4ff;\n",
       "}\n",
       "</style>"
      ],
      "text/plain": [
       "<IPython.core.display.HTML object>"
      ]
     },
     "execution_count": 2,
     "metadata": {},
     "output_type": "execute_result"
    }
   ],
   "source": [
    "from IPython.core.display import HTML\n",
    "css = open('style-table.css').read()\n",
    "HTML('<style>{}</style>'.format(css))"
   ]
  },
  {
   "cell_type": "code",
   "execution_count": 3,
   "metadata": {
    "collapsed": false
   },
   "outputs": [
    {
     "data": {
      "text/html": [
       "<div>\n",
       "<table border=\"1\" class=\"dataframe\">\n",
       "  <thead>\n",
       "    <tr style=\"text-align: right;\">\n",
       "      <th></th>\n",
       "      <th>nombre</th>\n",
       "      <th>curso</th>\n",
       "      <th>horario</th>\n",
       "      <th>sala</th>\n",
       "      <th>division</th>\n",
       "      <th>area</th>\n",
       "    </tr>\n",
       "    <tr>\n",
       "      <th>date</th>\n",
       "      <th></th>\n",
       "      <th></th>\n",
       "      <th></th>\n",
       "      <th></th>\n",
       "      <th></th>\n",
       "      <th></th>\n",
       "    </tr>\n",
       "  </thead>\n",
       "  <tbody>\n",
       "    <tr>\n",
       "      <th>2016-10-18 10:28:00</th>\n",
       "      <td>Abarca Brown, Joaquin Esteban</td>\n",
       "      <td>MT21</td>\n",
       "      <td>Lun 17:30</td>\n",
       "      <td>4</td>\n",
       "      <td>001</td>\n",
       "      <td>MT</td>\n",
       "    </tr>\n",
       "    <tr>\n",
       "      <th>2016-10-18 10:28:00</th>\n",
       "      <td>Abarca Brown, Joaquin Esteban</td>\n",
       "      <td>MT22</td>\n",
       "      <td>Lun 19:00</td>\n",
       "      <td>4</td>\n",
       "      <td>001</td>\n",
       "      <td>MT</td>\n",
       "    </tr>\n",
       "    <tr>\n",
       "      <th>2016-10-18 10:28:00</th>\n",
       "      <td>Abarca Brown, Joaquin Esteban</td>\n",
       "      <td>LC21</td>\n",
       "      <td>Vie 17:30</td>\n",
       "      <td>7</td>\n",
       "      <td>004</td>\n",
       "      <td>LC</td>\n",
       "    </tr>\n",
       "    <tr>\n",
       "      <th>2016-10-18 10:28:00</th>\n",
       "      <td>Abarca Brown, Joaquin Esteban</td>\n",
       "      <td>LC22</td>\n",
       "      <td>Vie 19:00</td>\n",
       "      <td>7</td>\n",
       "      <td>004</td>\n",
       "      <td>LC</td>\n",
       "    </tr>\n",
       "    <tr>\n",
       "      <th>2016-10-18 10:28:00</th>\n",
       "      <td>Aburto Aburto, Patricia Belen</td>\n",
       "      <td>M311</td>\n",
       "      <td>Vie 16:00</td>\n",
       "      <td>12</td>\n",
       "      <td>001</td>\n",
       "      <td>M3</td>\n",
       "    </tr>\n",
       "  </tbody>\n",
       "</table>\n",
       "</div>"
      ],
      "text/plain": [
       "                                            nombre curso    horario  sala  \\\n",
       "date                                                                        \n",
       "2016-10-18 10:28:00  Abarca Brown, Joaquin Esteban  MT21  Lun 17:30     4   \n",
       "2016-10-18 10:28:00  Abarca Brown, Joaquin Esteban  MT22  Lun 19:00     4   \n",
       "2016-10-18 10:28:00  Abarca Brown, Joaquin Esteban  LC21  Vie 17:30     7   \n",
       "2016-10-18 10:28:00  Abarca Brown, Joaquin Esteban  LC22  Vie 19:00     7   \n",
       "2016-10-18 10:28:00  Aburto Aburto, Patricia Belen  M311  Vie 16:00    12   \n",
       "\n",
       "                    division area  \n",
       "date                               \n",
       "2016-10-18 10:28:00      001   MT  \n",
       "2016-10-18 10:28:00      001   MT  \n",
       "2016-10-18 10:28:00      004   LC  \n",
       "2016-10-18 10:28:00      004   LC  \n",
       "2016-10-18 10:28:00      001   M3  "
      ]
     },
     "execution_count": 3,
     "metadata": {},
     "output_type": "execute_result"
    }
   ],
   "source": [
    "a = alumnos.copy()\n",
    "curso = a.curso.str.split('.').str[0]\n",
    "division = a.curso.str.split('.').str[1]\n",
    "a['curso'] = curso\n",
    "a['division'] = division\n",
    "a['area'] = curso.str[:2]\n",
    "a.head()"
   ]
  },
  {
   "cell_type": "code",
   "execution_count": null,
   "metadata": {
    "collapsed": false
   },
   "outputs": [],
   "source": [
    "s = a[a.sala < 97]\n",
    "s = s[s.curso.str.startswith('MT')]\n",
    "s.groupby(['curso','horario']).get_group(('MT22','Vie 16:00')).head()"
   ]
  }
 ],
 "metadata": {
  "kernelspec": {
   "display_name": "Python 3",
   "language": "python",
   "name": "python3"
  },
  "language_info": {
   "codemirror_mode": {
    "name": "ipython",
    "version": 3
   },
   "file_extension": ".py",
   "mimetype": "text/x-python",
   "name": "python",
   "nbconvert_exporter": "python",
   "pygments_lexer": "ipython3",
   "version": "3.4.2"
  }
 },
 "nbformat": 4,
 "nbformat_minor": 0
}
