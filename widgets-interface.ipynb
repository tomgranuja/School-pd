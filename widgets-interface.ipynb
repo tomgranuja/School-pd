{
 "cells": [
  {
   "cell_type": "code",
   "execution_count": 1,
   "metadata": {
    "collapsed": false
   },
   "outputs": [],
   "source": [
    "from pdtable import alumnos, cursos"
   ]
  },
  {
   "cell_type": "code",
   "execution_count": 2,
   "metadata": {
    "collapsed": false
   },
   "outputs": [
    {
     "data": {
      "text/html": [
       "<style>body {\n",
       "    margin: 0;\n",
       "    font-family: Helvetica;\n",
       "}\n",
       "table.dataframe {\n",
       "    border-collapse: collapse;\n",
       "    border: none;\n",
       "}\n",
       "table.dataframe tr {\n",
       "    border: none;\n",
       "}\n",
       "table.dataframe td, table.dataframe th {\n",
       "    margin: 0;\n",
       "    border: 1px solid white;\n",
       "    padding-left: 0.25em;\n",
       "    padding-right: 0.25em;\n",
       "}\n",
       "table.dataframe th:not(:empty) {\n",
       "    background-color: #fec;\n",
       "    text-align: left;\n",
       "    font-weight: normal;\n",
       "}\n",
       "table.dataframe tr:nth-child(2) th:empty {\n",
       "    border-left: none;\n",
       "    border-right: 1px dashed #888;\n",
       "}\n",
       "table.dataframe td {\n",
       "    border: 2px solid #ccf;\n",
       "    background-color: #f4f4ff;\n",
       "}\n",
       "</style>"
      ],
      "text/plain": [
       "<IPython.core.display.HTML object>"
      ]
     },
     "execution_count": 2,
     "metadata": {},
     "output_type": "execute_result"
    }
   ],
   "source": [
    "from IPython.core.display import HTML\n",
    "css = open('style-table.css').read()\n",
    "HTML('<style>{}</style>'.format(css))"
   ]
  },
  {
   "cell_type": "code",
   "execution_count": 3,
   "metadata": {
    "collapsed": false
   },
   "outputs": [
    {
     "data": {
      "text/html": [
       "<div>\n",
       "<table border=\"1\" class=\"dataframe\">\n",
       "  <thead>\n",
       "    <tr style=\"text-align: right;\">\n",
       "      <th></th>\n",
       "      <th>nombre</th>\n",
       "      <th>curso</th>\n",
       "      <th>horario</th>\n",
       "      <th>sala</th>\n",
       "    </tr>\n",
       "    <tr>\n",
       "      <th>date</th>\n",
       "      <th></th>\n",
       "      <th></th>\n",
       "      <th></th>\n",
       "      <th></th>\n",
       "    </tr>\n",
       "  </thead>\n",
       "  <tbody>\n",
       "    <tr>\n",
       "      <th>2016-10-18 10:28:00</th>\n",
       "      <td>Abarca Brown, Joaquin Esteban</td>\n",
       "      <td>MT21.001</td>\n",
       "      <td>Lun 17:30</td>\n",
       "      <td>4</td>\n",
       "    </tr>\n",
       "    <tr>\n",
       "      <th>2016-10-18 10:28:00</th>\n",
       "      <td>Abarca Brown, Joaquin Esteban</td>\n",
       "      <td>MT22.001</td>\n",
       "      <td>Lun 19:00</td>\n",
       "      <td>4</td>\n",
       "    </tr>\n",
       "    <tr>\n",
       "      <th>2016-10-18 10:28:00</th>\n",
       "      <td>Abarca Brown, Joaquin Esteban</td>\n",
       "      <td>LC21.004</td>\n",
       "      <td>Vie 17:30</td>\n",
       "      <td>7</td>\n",
       "    </tr>\n",
       "    <tr>\n",
       "      <th>2016-10-18 10:28:00</th>\n",
       "      <td>Abarca Brown, Joaquin Esteban</td>\n",
       "      <td>LC22.004</td>\n",
       "      <td>Vie 19:00</td>\n",
       "      <td>7</td>\n",
       "    </tr>\n",
       "    <tr>\n",
       "      <th>2016-10-18 10:28:00</th>\n",
       "      <td>Aburto Aburto, Patricia Belen</td>\n",
       "      <td>M311.001</td>\n",
       "      <td>Vie 16:00</td>\n",
       "      <td>12</td>\n",
       "    </tr>\n",
       "  </tbody>\n",
       "</table>\n",
       "</div>"
      ],
      "text/plain": [
       "                                            nombre     curso    horario  sala\n",
       "date                                                                         \n",
       "2016-10-18 10:28:00  Abarca Brown, Joaquin Esteban  MT21.001  Lun 17:30     4\n",
       "2016-10-18 10:28:00  Abarca Brown, Joaquin Esteban  MT22.001  Lun 19:00     4\n",
       "2016-10-18 10:28:00  Abarca Brown, Joaquin Esteban  LC21.004  Vie 17:30     7\n",
       "2016-10-18 10:28:00  Abarca Brown, Joaquin Esteban  LC22.004  Vie 19:00     7\n",
       "2016-10-18 10:28:00  Aburto Aburto, Patricia Belen  M311.001  Vie 16:00    12"
      ]
     },
     "execution_count": 3,
     "metadata": {},
     "output_type": "execute_result"
    }
   ],
   "source": [
    "alumnos.head()"
   ]
  },
  {
   "cell_type": "code",
   "execution_count": 4,
   "metadata": {
    "collapsed": false
   },
   "outputs": [
    {
     "data": {
      "text/html": [
       "<div>\n",
       "<table border=\"1\" class=\"dataframe\">\n",
       "  <thead>\n",
       "    <tr style=\"text-align: right;\">\n",
       "      <th></th>\n",
       "      <th>horario</th>\n",
       "      <th>curso</th>\n",
       "      <th>sala</th>\n",
       "    </tr>\n",
       "  </thead>\n",
       "  <tbody>\n",
       "    <tr>\n",
       "      <th>0</th>\n",
       "      <td>Jue 08:30</td>\n",
       "      <td>EL81.002</td>\n",
       "      <td>1</td>\n",
       "    </tr>\n",
       "    <tr>\n",
       "      <th>70</th>\n",
       "      <td>Lun 17:30</td>\n",
       "      <td>L391.001</td>\n",
       "      <td>1</td>\n",
       "    </tr>\n",
       "    <tr>\n",
       "      <th>140</th>\n",
       "      <td>Mie 11:30</td>\n",
       "      <td>EM83.001</td>\n",
       "      <td>12</td>\n",
       "    </tr>\n",
       "    <tr>\n",
       "      <th>210</th>\n",
       "      <td>Sab 13:00</td>\n",
       "      <td>TC33.002</td>\n",
       "      <td>1</td>\n",
       "    </tr>\n",
       "    <tr>\n",
       "      <th>280</th>\n",
       "      <td>Vie 17:30</td>\n",
       "      <td>TC32.003</td>\n",
       "      <td>5</td>\n",
       "    </tr>\n",
       "  </tbody>\n",
       "</table>\n",
       "</div>"
      ],
      "text/plain": [
       "       horario     curso  sala\n",
       "0    Jue 08:30  EL81.002     1\n",
       "70   Lun 17:30  L391.001     1\n",
       "140  Mie 11:30  EM83.001    12\n",
       "210  Sab 13:00  TC33.002     1\n",
       "280  Vie 17:30  TC32.003     5"
      ]
     },
     "execution_count": 4,
     "metadata": {},
     "output_type": "execute_result"
    }
   ],
   "source": [
    "cursos[::70]"
   ]
  },
  {
   "cell_type": "code",
   "execution_count": 5,
   "metadata": {
    "collapsed": true
   },
   "outputs": [],
   "source": [
    "import ipywidgets as wg \n",
    "from IPython.display import display"
   ]
  },
  {
   "cell_type": "code",
   "execution_count": 6,
   "metadata": {
    "collapsed": false
   },
   "outputs": [],
   "source": [
    "s = cursos.sala.value_counts().sort_index()\n",
    "c = cursos.curso.value_counts().sort_index()\n",
    "salas_wg  = wg.Select(options = [str(n) for n in s.index.values])\n",
    "cursos_wg = wg.Select(options = [curso for curso in c.index.values])\n",
    "salas_wg.height = '22em'\n",
    "cursos_wg.height = '22em'\n",
    "box = wg.HBox([salas_wg, cursos_wg])\n",
    "display(box)"
   ]
  },
  {
   "cell_type": "code",
   "execution_count": 7,
   "metadata": {
    "collapsed": false
   },
   "outputs": [
    {
     "name": "stdout",
     "output_type": "stream",
     "text": [
      "0           Alegría Herrera, Claudia Maritza\n",
      "1          Almonacid Diaz, Barbara Antonella\n",
      "2            Altamirano Ojeda, Luis Fernando\n",
      "3          Alvarez Hermosilla, Vyrón Ignacio\n",
      "4                Andrade Varas, Ivan Ignacio\n",
      "5                   Bello Feris, Carol Milen\n",
      "6                    Brandou Campos, Gabriel\n",
      "7           Carcamo Paredes, Belén Alejandra\n",
      "8          Del Rio Barria, Nicolas Sebastian\n",
      "9                  Flores Oyarzo, Maria Jose\n",
      "10             Gajardo Loustau, Jose Ignacio\n",
      "11         Gallardo Mancilla, Marcos Bastian\n",
      "12        Gallegos Barrientos, Jorge Alberto\n",
      "13          Gallegos Miranda, Ignacia Isabel\n",
      "14           Gayoso Gannica, Alejandra Denis\n",
      "15            Gonzalez Guerrero, Nadia Belen\n",
      "16        Gutierrez Perez, Javiera Constanza\n",
      "17            Hermosilla Morales, Saba Belen\n",
      "18     Hernández Gallardo, Ignacia Alejandra\n",
      "19     Hormazabal Rehbein, Javiera Constanza\n",
      "20          Irribarra Ulloa, Carolina Andrea\n",
      "21        Jimenez Taglioni, Dianella Nicolle\n",
      "22        Kesternich Muñoz, Mauricio Estéban\n",
      "23        Maldonado Llanquilef, Jairo Andrés\n",
      "24            Mansilla Aguila, Felipe Andres\n",
      "25        Mansilla Vargas, Cristobal Ignacio\n",
      "26           Matus Oyarzun, Constanza Isabel\n",
      "27               Moraga Cortés, Anyela Karen\n",
      "28                   Oñate Torres, Maria Paz\n",
      "29             Ortega Alarcon, Javier Adolfo\n",
      "30          Oyarzo Ancacura, Valentina Belen\n",
      "31           Paredes Soto, Natalia Alejandra\n",
      "32          Ramirez Meneses, Esteban Gabriel\n",
      "33        Rebolledo Gallardo, Daniela Andrea\n",
      "34          Reyes Cardenas, Camila Alejandra\n",
      "35           Rosas Jovanin, Javiera Fernanda\n",
      "36          Schulz Huichaman, Camila Ignacia\n",
      "37         Subiabre Soto, Valeria Del Carmen\n",
      "38          Torres Barria, Manuel  Alejandro\n",
      "39                 Ulloa Diaz, Pablo Enrique\n",
      "40             Vargas Segovia, Ariam Isolina\n",
      "41    Villarroel Calbucoy, Fabiola Estefania\n",
      "42     Villarroel Oyarzun, Sebastian Ignacio\n",
      "43          Weisser Rivera, Fernanda Maritsu\n",
      "44                   Werner Cardenas, Yohana\n",
      "45      Zambrano Morales, Melanie Jacqueline\n",
      "46            Zapata Gómez, Matias Sebastián\n",
      "Name: nombre, dtype: object\n"
     ]
    }
   ],
   "source": [
    "def select_sala(sala):\n",
    "    n = int(sala)\n",
    "    c = cursos[cursos.sala == n]\n",
    "    c = c.curso.value_counts().sort_index()\n",
    "    cursos_wg.options = [cur for cur in c.index.values]\n",
    "\n",
    "def select_curso(curso):\n",
    "    a = alumnos\n",
    "    a = a[a.curso == curso]\n",
    "    a = a.nombre.reset_index()['nombre']\n",
    "    print(a)\n",
    "\n",
    "i  = wg.interactive(select_sala, sala=salas_wg)\n",
    "i2 = wg.interactive(select_curso, curso=cursos_wg)\n",
    "box = wg.HBox([i, i2])\n",
    "display(box)"
   ]
  }
 ],
 "metadata": {
  "kernelspec": {
   "display_name": "Python 3",
   "language": "python",
   "name": "python3"
  },
  "language_info": {
   "codemirror_mode": {
    "name": "ipython",
    "version": 3
   },
   "file_extension": ".py",
   "mimetype": "text/x-python",
   "name": "python",
   "nbconvert_exporter": "python",
   "pygments_lexer": "ipython3",
   "version": "3.5.2"
  }
 },
 "nbformat": 4,
 "nbformat_minor": 0
}
